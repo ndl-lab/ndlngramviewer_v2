{
 "cells": [
  {
   "cell_type": "markdown",
   "metadata": {},
   "source": [
    "## RedisやKeyDBによるngramの集計コード\n",
    "適宜分割して複数並列で実行することをお勧めします"
   ]
  },
  {
   "cell_type": "code",
   "execution_count": 1,
   "metadata": {},
   "outputs": [],
   "source": [
    "import redis\n",
    "pool = redis.ConnectionPool(host='localhost', port=6379, db=0)\n",
    "client = redis.StrictRedis(connection_pool=pool)"
   ]
  },
  {
   "cell_type": "code",
   "execution_count": 4,
   "metadata": {},
   "outputs": [],
   "source": [
    "pipe = client.pipeline()"
   ]
  },
  {
   "cell_type": "code",
   "execution_count": null,
   "metadata": {},
   "outputs": [],
   "source": [
    "import os\n",
    "import tarfile\n",
    "import glob\n",
    "import gzip\n",
    "import json\n",
    "from tqdm import tqdm\n",
    "import random\n",
    "import pandas as pd\n",
    "random.seed(777)\n",
    "#1_ngrammakerで作成した資料ID毎のngram集計情報のjson\n",
    "INPUTDIR=\"/data/ngramviewer/ngramdata/\"\n",
    "cnt=0\n",
    "inputgzfilelist=glob.glob(os.path.join(INPUTDIR,\"*.json.gz\"))\n",
    "random.shuffle(inputgzfilelist)\n",
    "print(len(inputgzfilelist))\n",
    "tmpval=0\n",
    "allcnt=0\n",
    "for inputgzpath in tqdm(inputgzfilelist):\n",
    "    pid=os.path.basename(inputgzpath).split(\".\")[0]\n",
    "    dfrow=dfmini2[dfmini2[\"PID\"]==pid]\n",
    "    yeararray=dfrow[\"出版年(W3CDTF)\"].values\n",
    "    if len(yeararray)>0:\n",
    "        cnt+=1\n",
    "        with gzip.open(inputgzpath, mode='rt') as fp:\n",
    "            jsonobj=json.load(fp)\n",
    "            for k,v in jsonobj.items():\n",
    "                try:\n",
    "                    k=str(k)\n",
    "                    k=k.replace(\" \",\"\")\n",
    "                    pipe.hincrby(k,yeararray[0],v)\n",
    "                except:\n",
    "                    pass\n",
    "        if cnt%200==0:#200冊溜まったらバルク投入する\n",
    "            pipe.execute()\n",
    "            pipe = client.pipeline()\n",
    "pipe.execute()"
   ]
  }
 ],
 "metadata": {
  "kernelspec": {
   "display_name": "Python 3",
   "language": "python",
   "name": "python3"
  },
  "language_info": {
   "codemirror_mode": {
    "name": "ipython",
    "version": 3
   },
   "file_extension": ".py",
   "mimetype": "text/x-python",
   "name": "python",
   "nbconvert_exporter": "python",
   "pygments_lexer": "ipython3",
   "version": "3.6.9"
  }
 },
 "nbformat": 4,
 "nbformat_minor": 4
}
