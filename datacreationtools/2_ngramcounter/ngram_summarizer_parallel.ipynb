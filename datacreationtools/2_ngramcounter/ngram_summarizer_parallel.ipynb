{
 "cells": [
  {
   "cell_type": "markdown",
   "metadata": {},
   "source": [
    "## RedisやKeyDBによるngramの集計コード（マルチプロセスの参考例）"
   ]
  },
  {
   "cell_type": "code",
   "execution_count": 1,
   "metadata": {},
   "outputs": [],
   "source": [
    "import redis\n",
    "pool = redis.ConnectionPool(host='localhost', port=6379, db=0)\n",
    "client = redis.StrictRedis(connection_pool=pool)"
   ]
  },
  {
   "cell_type": "code",
   "execution_count": null,
   "metadata": {},
   "outputs": [],
   "source": [
    "import os\n",
    "import tarfile\n",
    "import glob\n",
    "import gzip\n",
    "import json\n",
    "import pandas as pd\n",
    "from tqdm import tqdm\n",
    "import time\n",
    "from pathos.multiprocessing import ProcessingPool\n",
    "import random\n",
    "random.seed(777)\n",
    "#1_ngrammakerで作成した資料ID毎のngram集計情報のjsonが格納されたディレクトリを指定\n",
    "INPUTDIR=\"/data/ngramviewer/ngramdata/\"\n",
    "cnt=0\n",
    "inputgzfilelist=glob.glob(os.path.join(INPUTDIR,\"*.json.gz\"))\n",
    "random.shuffle(inputgzfilelist)\n",
    "pidlist=[os.path.basename(inputgzpath).split(\".\")[0] for inputgzpath in  inputgzfilelist]\n",
    "dfnew=pd.DataFrame({\"PID\":pidlist,\"inputgzpath\":inputgzfilelist})\n",
    "print(dfnew.shape)"
   ]
  },
  {
   "cell_type": "code",
   "execution_count": 11,
   "metadata": {},
   "outputs": [],
   "source": [
    "def dataloader(tmpdf):\n",
    "    pipe = client.pipeline()\n",
    "    for index,row in tmpdf.iterrows():\n",
    "        year=row[\"出版年(W3CDTF)\"]\n",
    "        inputgzpath=row[\"inputgzpath\"]\n",
    "        pid=os.path.basename(inputgzpath).split(\".\")[0]\n",
    "        pipe.rpush(\"masterpidlist\",pid)\n",
    "        with gzip.open(inputgzpath, mode='rt') as fp:\n",
    "            jsonobj=json.load(fp)\n",
    "            for k,v in jsonobj.items():\n",
    "                try:\n",
    "                    k=str(k)\n",
    "                    k=k.replace(\" \",\"\")\n",
    "                    pipe.hincrby(k,year,v)\n",
    "                except:\n",
    "                    pass\n",
    "    pipe.execute()\n",
    "    return 0"
   ]
  },
  {
   "cell_type": "code",
   "execution_count": null,
   "metadata": {
    "scrolled": false
   },
   "outputs": [],
   "source": [
    "ppool = ProcessingPool(nodes=6)#6プロセスの並列で投入する\n",
    "collen=dfnew.shape[0]\n",
    "targetdflist=[]\n",
    "for i in tqdm(range(collen//100+1)):#1プロセスあたり100冊以内になるように分割\n",
    "    targetdflist.append(dfnew[i*100:(i+1)*100])\n",
    "result = ppool.map(lambda x: dataloader(x),targetdflist)"
   ]
  }
 ],
 "metadata": {
  "kernelspec": {
   "display_name": "Python 3",
   "language": "python",
   "name": "python3"
  },
  "language_info": {
   "codemirror_mode": {
    "name": "ipython",
    "version": 3
   },
   "file_extension": ".py",
   "mimetype": "text/x-python",
   "name": "python",
   "nbconvert_exporter": "python",
   "pygments_lexer": "ipython3",
   "version": "3.6.9"
  }
 },
 "nbformat": 4,
 "nbformat_minor": 4
}
